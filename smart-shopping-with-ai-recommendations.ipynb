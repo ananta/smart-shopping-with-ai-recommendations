{
 "cells": [
  {
   "cell_type": "code",
   "execution_count": null,
   "id": "c39d905c",
   "metadata": {},
   "outputs": [],
   "source": [
    "import os\n",
    "import getpass\n",
    "\n",
    "os.environ[\"ANTHROPIC_API_KEY\"] = getpass.getpass(\"Enter your Anthropic API key: \")\n",
    "os.environ[\"TAVILY_API_KEY\"] = getpass.getpass(\"Enter your Tavily API key: \")\n",
    "\n",
    "### Optionally: \n",
    "os.environ[\"OPENAI_API_KEY\"] = getpass.getpass(\"Enter your OpenAI API Key: \")"
   ]
  },
  {
   "cell_type": "code",
   "execution_count": null,
   "id": "8e3a8e3f",
   "metadata": {},
   "outputs": [],
   "source": [
    "import json\n",
    "from langchain.schema import Document\n",
    "\n",
    "with open('data/reddit-data.json', 'r') as f:\n",
    "    reddit_data = json.load(f)\n",
    "\n",
    "\n",
    "docs = [\n",
    "    Document(\n",
    "        page_content=f\"{item['title']}\\n\\n{item['selftext']}\",\n",
    "        metadata={\n",
    "            \"subreddit\": item[\"subreddit\"],\n",
    "            \"upvotes\": item[\"upvotes\"],\n",
    "            \"url\": item[\"url\"],\n",
    "            \"timestamp\": item[\"created_utc\"],\n",
    "        },\n",
    "    )\n",
    "    for item in reddit_data\n",
    "]"
   ]
  },
  {
   "cell_type": "code",
   "execution_count": null,
   "id": "8953b0e8",
   "metadata": {},
   "outputs": [],
   "source": [
    "from langchain_openai import OpenAIEmbeddings\n",
    "from langchain.vectorstores import FAISS\n",
    "\n",
    "embedding_model = OpenAIEmbeddings(model=\"text-embedding-3-small\")\n",
    "vectorstore = FAISS.from_documents(docs, embedding_model)\n",
    "retriever = vectorstore.as_retriever()"
   ]
  },
  {
   "cell_type": "code",
   "execution_count": null,
   "id": "890946d7",
   "metadata": {},
   "outputs": [],
   "source": [
    "from langchain_core.prompts import ChatPromptTemplate\n",
    "from langgraph.graph import StateGraph, State\n",
    "from langchain_openai import ChatOpenAI\n",
    "from typing import TypedDict\n",
    "\n",
    "# Define graph state\n",
    "class ToolkitState(TypedDict):\n",
    "    user_goal: str\n",
    "    category_plan: list[str]\n",
    "    recommendations: dict[str, str]\n",
    "def rag_node(state: ToolkitState) -> ToolkitState:\n",
    "        # Just take top doc's content for demo\n",
    "        if docs:\n",
    "            updated_recs[category] = docs[0].page_content\n",
    "        else:\n",
    "            updated_recs[category] = \"No recommendation found.\"\n",
    "    return {\n",
    "        **state,\n",
    "        \"recommendations\": updated_recs\n",
    "    }"
   ]
  }
 ],
 "metadata": {
  "kernelspec": {
   "display_name": ".venv",
   "language": "python",
   "name": "python3"
  },
  "language_info": {
   "name": "python",
   "version": "3.12.0"
  }
 },
 "nbformat": 4,
 "nbformat_minor": 5
}
